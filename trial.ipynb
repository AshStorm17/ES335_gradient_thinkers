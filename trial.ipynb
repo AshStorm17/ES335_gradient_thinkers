{
 "cells": [
  {
   "cell_type": "code",
   "execution_count": 1,
   "metadata": {},
   "outputs": [
    {
     "name": "stderr",
     "output_type": "stream",
     "text": [
      "<>:8: SyntaxWarning: invalid escape sequence '\\.'\n",
      "<>:8: SyntaxWarning: invalid escape sequence '\\.'\n",
      "C:\\Users\\dell\\AppData\\Local\\Temp\\ipykernel_13008\\17871659.py:8: SyntaxWarning: invalid escape sequence '\\.'\n",
      "  words = re.sub('[^a-zA-Z0-9 \\.]', '', text).lower().split()\n"
     ]
    }
   ],
   "source": [
    "import re\n",
    "import torch\n",
    "import numpy as np\n",
    "from torch.utils.data import DataLoader, Dataset\n",
    "\n",
    "class TextDataset(Dataset):\n",
    "    def __init__(self, text, block_size):\n",
    "        words = re.sub('[^a-zA-Z0-9 \\.]', '', text).lower().split()\n",
    "        self.vocab = sorted(set(words))\n",
    "        self.word_to_idx = {word: i for i, word in enumerate(self.vocab)}\n",
    "        self.idx_to_word = {i: word for word, i in self.word_to_idx.items()}\n",
    "        self.data = [self.word_to_idx[word] for word in words]\n",
    "        self.block_size = block_size\n",
    "\n",
    "    def __len__(self):\n",
    "        return len(self.data) - self.block_size\n",
    "\n",
    "    def __getitem__(self, idx):\n",
    "        return (\n",
    "            torch.tensor(self.data[idx: idx + self.block_size], dtype=torch.long),\n",
    "            torch.tensor(self.data[idx + self.block_size], dtype=torch.long),\n",
    "        )\n",
    "\n",
    "# Example usage:\n",
    "# dataset = TextDataset(your_text_data, block_size=5)\n",
    "# loader = DataLoader(dataset, batch_size=32, shuffle=True)\n"
   ]
  },
  {
   "cell_type": "code",
   "execution_count": 4,
   "metadata": {},
   "outputs": [],
   "source": [
    "import torch.nn as nn\n",
    "import torch.nn.functional as F\n",
    "\n",
    "class TextGeneratorMLP(nn.Module):\n",
    "    def __init__(self, vocab_size, emb_dim, hidden_size):\n",
    "        super(TextGeneratorMLP, self).__init__()\n",
    "        self.embedding = nn.Embedding(vocab_size, emb_dim)\n",
    "        self.fc1 = nn.Linear(emb_dim * block_size, hidden_size)\n",
    "        self.fc2 = nn.Linear(hidden_size, vocab_size)\n",
    "\n",
    "    def forward(self, x):\n",
    "        x = self.embedding(x)\n",
    "        x = x.view(x.size(0), -1)  # Flatten the embeddings\n",
    "        x = F.relu(self.fc1(x))\n",
    "        x = self.fc2(x)\n",
    "        return x\n",
    "\n",
    "# Example usage:\n",
    "# model = TextGeneratorMLP(vocab_size=len(dataset.vocab), emb_dim=32, hidden_size=1024)\n"
   ]
  },
  {
   "cell_type": "code",
   "execution_count": 5,
   "metadata": {},
   "outputs": [],
   "source": [
    "def train_model(model, loader, num_epochs=10, learning_rate=0.001):\n",
    "    criterion = nn.CrossEntropyLoss()\n",
    "    optimizer = torch.optim.Adam(model.parameters(), lr=learning_rate)\n",
    "    for epoch in range(num_epochs):\n",
    "        total_loss = 0\n",
    "        for X_batch, y_batch in loader:\n",
    "            optimizer.zero_grad()\n",
    "            output = model(X_batch)\n",
    "            loss = criterion(output, y_batch)\n",
    "            loss.backward()\n",
    "            optimizer.step()\n",
    "            total_loss += loss.item()\n",
    "        print(f'Epoch [{epoch + 1}/{num_epochs}], Loss: {total_loss / len(loader):.4f}')\n",
    "\n",
    "# Example usage:\n",
    "# train_model(model, loader, num_epochs=10, learning_rate=0.001)\n"
   ]
  },
  {
   "cell_type": "code",
   "execution_count": 6,
   "metadata": {},
   "outputs": [],
   "source": [
    "from sklearn.manifold import TSNE\n",
    "import matplotlib.pyplot as plt\n",
    "\n",
    "def visualize_embeddings(model, dataset, num_words=100):\n",
    "    embeddings = model.embedding.weight.data[:num_words].numpy()\n",
    "    tsne = TSNE(n_components=2)\n",
    "    reduced = tsne.fit_transform(embeddings)\n",
    "\n",
    "    plt.figure(figsize=(10, 10))\n",
    "    for i, label in enumerate(dataset.vocab[:num_words]):\n",
    "        x, y = reduced[i]\n",
    "        plt.scatter(x, y)\n",
    "        plt.annotate(label, (x, y))\n",
    "    plt.show()\n",
    "\n",
    "# Example usage:\n",
    "# visualize_embeddings(model, dataset)\n"
   ]
  },
  {
   "cell_type": "code",
   "execution_count": 7,
   "metadata": {},
   "outputs": [
    {
     "ename": "ModuleNotFoundError",
     "evalue": "No module named 'streamlit'",
     "output_type": "error",
     "traceback": [
      "\u001b[1;31m---------------------------------------------------------------------------\u001b[0m",
      "\u001b[1;31mModuleNotFoundError\u001b[0m                       Traceback (most recent call last)",
      "Cell \u001b[1;32mIn[7], line 1\u001b[0m\n\u001b[1;32m----> 1\u001b[0m \u001b[38;5;28;01mimport\u001b[39;00m \u001b[38;5;21;01mstreamlit\u001b[39;00m \u001b[38;5;28;01mas\u001b[39;00m \u001b[38;5;21;01mst\u001b[39;00m\n\u001b[0;32m      3\u001b[0m \u001b[38;5;66;03m# Define the main app function\u001b[39;00m\n\u001b[0;32m      4\u001b[0m \u001b[38;5;28;01mdef\u001b[39;00m \u001b[38;5;21mmain\u001b[39m():\n",
      "\u001b[1;31mModuleNotFoundError\u001b[0m: No module named 'streamlit'"
     ]
    }
   ],
   "source": [
    "import streamlit as st\n",
    "\n",
    "# Define the main app function\n",
    "def main():\n",
    "    st.title(\"Next-Word Prediction with MLP\")\n",
    "    \n",
    "    # User inputs\n",
    "    block_size = st.slider(\"Context Length\", min_value=1, max_value=10, value=5)\n",
    "    emb_dim = st.slider(\"Embedding Dimension\", min_value=8, max_value=128, value=32)\n",
    "    hidden_size = st.slider(\"Hidden Layer Size\", min_value=64, max_value=2048, value=1024)\n",
    "    seed = st.number_input(\"Random Seed\", min_value=1, max_value=100, value=42)\n",
    "\n",
    "    # Model and dataset setup with the user's configuration\n",
    "    dataset = TextDataset(your_text_data, block_size)\n",
    "    model = TextGeneratorMLP(vocab_size=len(dataset.vocab), emb_dim=emb_dim, hidden_size=hidden_size)\n",
    "    model.eval()\n",
    "\n",
    "    # Predict the next word\n",
    "    user_input = st.text_input(\"Input Seed Text\", \"\")\n",
    "    if user_input:\n",
    "        words = user_input.lower().split()\n",
    "        input_ids = [dataset.word_to_idx.get(word, 0) for word in words[-block_size:]]\n",
    "        input_ids = torch.tensor(input_ids).unsqueeze(0)\n",
    "\n",
    "        with torch.no_grad():\n",
    "            output = model(input_ids)\n",
    "            next_word_idx = output.argmax(dim=-1).item()\n",
    "            next_word = dataset.idx_to_word[next_word_idx]\n",
    "        \n",
    "        st.write(f\"Predicted Next Word: **{next_word}**\")\n",
    "\n",
    "# Run the Streamlit app\n",
    "# Run this command in your terminal:\n",
    "# `streamlit run your_script.py`\n",
    "\n",
    "if __name__ == \"__main__\":\n",
    "    main()\n"
   ]
  }
 ],
 "metadata": {
  "kernelspec": {
   "display_name": "Python 3",
   "language": "python",
   "name": "python3"
  },
  "language_info": {
   "codemirror_mode": {
    "name": "ipython",
    "version": 3
   },
   "file_extension": ".py",
   "mimetype": "text/x-python",
   "name": "python",
   "nbconvert_exporter": "python",
   "pygments_lexer": "ipython3",
   "version": "3.12.4"
  }
 },
 "nbformat": 4,
 "nbformat_minor": 2
}
