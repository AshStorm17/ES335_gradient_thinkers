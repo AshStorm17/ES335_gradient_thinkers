{
 "cells": [
  {
   "cell_type": "code",
   "execution_count": null,
   "metadata": {
    "id": "6fhmWdMtXgij"
   },
   "outputs": [],
   "source": [
    "import numpy as np\n",
    "import matplotlib.pyplot as plt\n",
    "%matplotlib inline\n",
    "import matplotlib.pyplot as plt\n",
    "import itertools\n",
    "# Retina\n",
    "# %config InlineBackend.figure_format = 'retina'"
   ]
  },
  {
   "cell_type": "code",
   "execution_count": null,
   "metadata": {
    "colab": {
     "base_uri": "https://localhost:8080/",
     "height": 449
    },
    "id": "oQaqiIJIo9wG",
    "outputId": "8eac4348-e6d3-4e1e-af04-fe21d11c19c2"
   },
   "outputs": [
    {
     "data": {
      "image/png": "[encoded data removed]",
      "text/plain": [
       "<Figure size 640x480 with 1 Axes>"
      ]
     },
     "metadata": {},
     "output_type": "display_data"
    }
   ],
   "source": [
    "X = np.array([[1, 9], [2, 3], [4, 1], [3, 7], [5, 4], [6, 8], [7, 2], [8, 8], [7, 9], [9, 6]])\n",
    "\n",
    "query_pt = np.array([7, 4])\n",
    "\n",
    "def plot_dataset():\n",
    "    plt.scatter(X[:, 0], X[:, 1], s=100)\n",
    "    plt.xlabel('X1')\n",
    "    plt.ylabel('X2')\n",
    "    plt.gca().set_aspect('equal', adjustable='box')\n",
    "    plt.grid(True, which='both', axis='both', linestyle='--', linewidth=1, alpha=0.5)\n",
    "    plt.xticks(np.arange(min(X[:, 0]), max(X[:, 0])+1, 1))\n",
    "    plt.yticks(np.arange(min(X[:, 1]), max(X[:, 1])+1, 1))\n",
    "\n",
    "    plt.scatter(query_pt[0], query_pt[1], color='red', s=100)\n",
    "\n",
    "\n",
    "plot_dataset()\n",
    "\n"
   ]
  },
  {
   "cell_type": "code",
   "execution_count": null,
   "metadata": {
    "id": "7cfU20Oruu_F"
   },
   "outputs": [],
   "source": [
    "from sklearn.neighbors import NearestNeighbors\n",
    "\n",
    "k = 2\n",
    "nbrs = NearestNeighbors(n_neighbors=k, algorithm='brute').fit(X)\n",
    "distances, indices = nbrs.kneighbors([query_pt])"
   ]
  },
  {
   "cell_type": "code",
   "execution_count": null,
   "metadata": {
    "colab": {
     "base_uri": "https://localhost:8080/"
    },
    "id": "-qjs-W9tp2OT",
    "outputId": "a0554651-1cb9-4a68-b975-8a4dcf750e30"
   },
   "outputs": [
    {
     "name": "stdout",
     "output_type": "stream",
     "text": [
      "[[2.         2.         2.82842712 4.12310563 4.12310563 4.24264069\n",
      "  5.         5.         5.09901951 7.81024968]]\n"
     ]
    }
   ],
   "source": [
    "nbrs = NearestNeighbors(n_neighbors=len(X), algorithm='brute').fit(X)\n",
    "distances_sklearn, idxs_sklearn = nbrs.kneighbors([query_pt])\n",
    "print(distances_sklearn)"
   ]
  },
  {
   "cell_type": "code",
   "execution_count": null,
   "metadata": {
    "colab": {
     "base_uri": "https://localhost:8080/",
     "height": 363
    },
    "id": "HPJCpt0Nukxa",
    "outputId": "6e878c35-3eb9-456e-e6b2-b3b935e421cc"
   },
   "outputs": [
    {
     "data": {
      "application/vnd.google.colaboratory.intrinsic+json": {
       "summary": "{\n  \"name\": \"df\",\n  \"rows\": 10,\n  \"fields\": [\n    {\n      \"column\": \"X1\",\n      \"properties\": {\n        \"dtype\": \"number\",\n        \"std\": 2,\n        \"min\": 1,\n        \"max\": 9,\n        \"num_unique_values\": 9,\n        \"samples\": [\n          8,\n          2,\n          6\n        ],\n        \"semantic_type\": \"\",\n        \"description\": \"\"\n      }\n    },\n    {\n      \"column\": \"X2\",\n      \"properties\": {\n        \"dtype\": \"number\",\n        \"std\": 2,\n        \"min\": 1,\n        \"max\": 9,\n        \"num_unique_values\": 8,\n        \"samples\": [\n          3,\n          8,\n          9\n        ],\n        \"semantic_type\": \"\",\n        \"description\": \"\"\n      }\n    },\n    {\n      \"column\": \"query_distance\",\n      \"properties\": {\n        \"dtype\": \"number\",\n        \"std\": 1.7221389241638627,\n        \"min\": 2.0,\n        \"max\": 7.810249675906654,\n        \"num_unique_values\": 7,\n        \"samples\": [\n          4.123105625617661,\n          5.0,\n          5.0990195135927845\n        ],\n        \"semantic_type\": \"\",\n        \"description\": \"\"\n      }\n    }\n  ]\n}",
       "type": "dataframe",
       "variable_name": "df"
      },
      "text/html": [
       "\n",
       "  <div id=\"df-9b918d54-9ed9-4b3e-85ee-fba1d4bafaf5\" class=\"colab-df-container\">\n",
       "    <div>\n",
       "<style scoped>\n",
       "    .dataframe tbody tr th:only-of-type {\n",
       "        vertical-align: middle;\n",
       "    }\n",
       "\n",
       "    .dataframe tbody tr th {\n",
       "        vertical-align: top;\n",
       "    }\n",
       "\n",
       "    .dataframe thead th {\n",
       "        text-align: right;\n",
       "    }\n",
       "</style>\n",
       "<table border=\"1\" class=\"dataframe\">\n",
       "  <thead>\n",
       "    <tr style=\"text-align: right;\">\n",
       "      <th></th>\n",
       "      <th>X1</th>\n",
       "      <th>X2</th>\n",
       "      <th>query_distance</th>\n",
       "    </tr>\n",
       "  </thead>\n",
       "  <tbody>\n",
       "    <tr>\n",
       "      <th>0</th>\n",
       "      <td>1</td>\n",
       "      <td>9</td>\n",
       "      <td>4.123106</td>\n",
       "    </tr>\n",
       "    <tr>\n",
       "      <th>1</th>\n",
       "      <td>2</td>\n",
       "      <td>3</td>\n",
       "      <td>5.000000</td>\n",
       "    </tr>\n",
       "    <tr>\n",
       "      <th>2</th>\n",
       "      <td>4</td>\n",
       "      <td>1</td>\n",
       "      <td>7.810250</td>\n",
       "    </tr>\n",
       "    <tr>\n",
       "      <th>3</th>\n",
       "      <td>3</td>\n",
       "      <td>7</td>\n",
       "      <td>4.242641</td>\n",
       "    </tr>\n",
       "    <tr>\n",
       "      <th>4</th>\n",
       "      <td>5</td>\n",
       "      <td>4</td>\n",
       "      <td>5.000000</td>\n",
       "    </tr>\n",
       "    <tr>\n",
       "      <th>5</th>\n",
       "      <td>6</td>\n",
       "      <td>8</td>\n",
       "      <td>2.828427</td>\n",
       "    </tr>\n",
       "    <tr>\n",
       "      <th>6</th>\n",
       "      <td>7</td>\n",
       "      <td>2</td>\n",
       "      <td>4.123106</td>\n",
       "    </tr>\n",
       "    <tr>\n",
       "      <th>7</th>\n",
       "      <td>8</td>\n",
       "      <td>8</td>\n",
       "      <td>5.099020</td>\n",
       "    </tr>\n",
       "    <tr>\n",
       "      <th>8</th>\n",
       "      <td>7</td>\n",
       "      <td>9</td>\n",
       "      <td>2.000000</td>\n",
       "    </tr>\n",
       "    <tr>\n",
       "      <th>9</th>\n",
       "      <td>9</td>\n",
       "      <td>6</td>\n",
       "      <td>2.000000</td>\n",
       "    </tr>\n",
       "  </tbody>\n",
       "</table>\n",
       "</div>\n",
       "    <div class=\"colab-df-buttons\">\n",
       "\n",
       "  <div class=\"colab-df-container\">\n",
       "    <button class=\"colab-df-convert\" onclick=\"convertToInteractive('df-9b918d54-9ed9-4b3e-85ee-fba1d4bafaf5')\"\n",
       "            title=\"Convert this dataframe to an interactive table.\"\n",
       "            style=\"display:none;\">\n",
       "\n",
       "  <svg xmlns=\"http://www.w3.org/2000/svg\" height=\"24px\" viewBox=\"0 -960 960 960\">\n",
       "    <path d=\"M120-120v-720h720v720H120Zm60-500h600v-160H180v160Zm220 220h160v-160H400v160Zm0 220h160v-160H400v160ZM180-400h160v-160H180v160Zm440 0h160v-160H620v160ZM180-180h160v-160H180v160Zm440 0h160v-160H620v160Z\"/>\n",
       "  </svg>\n",
       "    </button>\n",
       "\n",
       "  <style>\n",
       "    .colab-df-container {\n",
       "      display:flex;\n",
       "      gap: 12px;\n",
       "    }\n",
       "\n",
       "    .colab-df-convert {\n",
       "      background-color: #E8F0FE;\n",
       "      border: none;\n",
       "      border-radius: 50%;\n",
       "      cursor: pointer;\n",
       "      display: none;\n",
       "      fill: #1967D2;\n",
       "      height: 32px;\n",
       "      padding: 0 0 0 0;\n",
       "      width: 32px;\n",
       "    }\n",
       "\n",
       "    .colab-df-convert:hover {\n",
       "      background-color: #E2EBFA;\n",
       "      box-shadow: 0px 1px 2px rgba(60, 64, 67, 0.3), 0px 1px 3px 1px rgba(60, 64, 67, 0.15);\n",
       "      fill: #174EA6;\n",
       "    }\n",
       "\n",
       "    .colab-df-buttons div {\n",
       "      margin-bottom: 4px;\n",
       "    }\n",
       "\n",
       "    [theme=dark] .colab-df-convert {\n",
       "      background-color: #3B4455;\n",
       "      fill: #D2E3FC;\n",
       "    }\n",
       "\n",
       "    [theme=dark] .colab-df-convert:hover {\n",
       "      background-color: #434B5C;\n",
       "      box-shadow: 0px 1px 3px 1px rgba(0, 0, 0, 0.15);\n",
       "      filter: drop-shadow(0px 1px 2px rgba(0, 0, 0, 0.3));\n",
       "      fill: #FFFFFF;\n",
       "    }\n",
       "  </style>\n",
       "\n",
       "    <script>\n",
       "      const buttonEl =\n",
       "        document.querySelector('#df-9b918d54-9ed9-4b3e-85ee-fba1d4bafaf5 button.colab-df-convert');\n",
       "      buttonEl.style.display =\n",
       "        google.colab.kernel.accessAllowed ? 'block' : 'none';\n",
       "\n",
       "      async function convertToInteractive(key) {\n",
       "        const element = document.querySelector('#df-9b918d54-9ed9-4b3e-85ee-fba1d4bafaf5');\n",
       "        const dataTable =\n",
       "          await google.colab.kernel.invokeFunction('convertToInteractive',\n",
       "                                                    [key], {});\n",
       "        if (!dataTable) return;\n",
       "\n",
       "        const docLinkHtml = 'Like what you see? Visit the ' +\n",
       "          '<a target=\"_blank\" href=https://colab.research.google.com/notebooks/data_table.ipynb>data table notebook</a>'\n",
       "          + ' to learn more about interactive tables.';\n",
       "        element.innerHTML = '';\n",
       "        dataTable['output_type'] = 'display_data';\n",
       "        await google.colab.output.renderOutput(dataTable, element);\n",
       "        const docLink = document.createElement('div');\n",
       "        docLink.innerHTML = docLinkHtml;\n",
       "        element.appendChild(docLink);\n",
       "      }\n",
       "    </script>\n",
       "  </div>\n",
       "\n",
       "\n",
       "<div id=\"df-53fda251-176a-4d71-93fe-1818d9f18b5c\">\n",
       "  <button class=\"colab-df-quickchart\" onclick=\"quickchart('df-53fda251-176a-4d71-93fe-1818d9f18b5c')\"\n",
       "            title=\"Suggest charts\"\n",
       "            style=\"display:none;\">\n",
       "\n",
       "<svg xmlns=\"http://www.w3.org/2000/svg\" height=\"24px\"viewBox=\"0 0 24 24\"\n",
       "     width=\"24px\">\n",
       "    <g>\n",
       "        <path d=\"M19 3H5c-1.1 0-2 .9-2 2v14c0 1.1.9 2 2 2h14c1.1 0 2-.9 2-2V5c0-1.1-.9-2-2-2zM9 17H7v-7h2v7zm4 0h-2V7h2v10zm4 0h-2v-4h2v4z\"/>\n",
       "    </g>\n",
       "</svg>\n",
       "  </button>\n",
       "\n",
       "<style>\n",
       "  .colab-df-quickchart {\n",
       "      --bg-color: #E8F0FE;\n",
       "      --fill-color: #1967D2;\n",
       "      --hover-bg-color: #E2EBFA;\n",
       "      --hover-fill-color: #174EA6;\n",
       "      --disabled-fill-color: #AAA;\n",
       "      --disabled-bg-color: #DDD;\n",
       "  }\n",
       "\n",
       "  [theme=dark] .colab-df-quickchart {\n",
       "      --bg-color: #3B4455;\n",
       "      --fill-color: #D2E3FC;\n",
       "      --hover-bg-color: #434B5C;\n",
       "      --hover-fill-color: #FFFFFF;\n",
       "      --disabled-bg-color: #3B4455;\n",
       "      --disabled-fill-color: #666;\n",
       "  }\n",
       "\n",
       "  .colab-df-quickchart {\n",
       "    background-color: var(--bg-color);\n",
       "    border: none;\n",
       "    border-radius: 50%;\n",
       "    cursor: pointer;\n",
       "    display: none;\n",
       "    fill: var(--fill-color);\n",
       "    height: 32px;\n",
       "    padding: 0;\n",
       "    width: 32px;\n",
       "  }\n",
       "\n",
       "  .colab-df-quickchart:hover {\n",
       "    background-color: var(--hover-bg-color);\n",
       "    box-shadow: 0 1px 2px rgba(60, 64, 67, 0.3), 0 1px 3px 1px rgba(60, 64, 67, 0.15);\n",
       "    fill: var(--button-hover-fill-color);\n",
       "  }\n",
       "\n",
       "  .colab-df-quickchart-complete:disabled,\n",
       "  .colab-df-quickchart-complete:disabled:hover {\n",
       "    background-color: var(--disabled-bg-color);\n",
       "    fill: var(--disabled-fill-color);\n",
       "    box-shadow: none;\n",
       "  }\n",
       "\n",
       "  .colab-df-spinner {\n",
       "    border: 2px solid var(--fill-color);\n",
       "    border-color: transparent;\n",
       "    border-bottom-color: var(--fill-color);\n",
       "    animation:\n",
       "      spin 1s steps(1) infinite;\n",
       "  }\n",
       "\n",
       "  @keyframes spin {\n",
       "    0% {\n",
       "      border-color: transparent;\n",
       "      border-bottom-color: var(--fill-color);\n",
       "      border-left-color: var(--fill-color);\n",
       "    }\n",
       "    20% {\n",
       "      border-color: transparent;\n",
       "      border-left-color: var(--fill-color);\n",
       "      border-top-color: var(--fill-color);\n",
       "    }\n",
       "    30% {\n",
       "      border-color: transparent;\n",
       "      border-left-color: var(--fill-color);\n",
       "      border-top-color: var(--fill-color);\n",
       "      border-right-color: var(--fill-color);\n",
       "    }\n",
       "    40% {\n",
       "      border-color: transparent;\n",
       "      border-right-color: var(--fill-color);\n",
       "      border-top-color: var(--fill-color);\n",
       "    }\n",
       "    60% {\n",
       "      border-color: transparent;\n",
       "      border-right-color: var(--fill-color);\n",
       "    }\n",
       "    80% {\n",
       "      border-color: transparent;\n",
       "      border-right-color: var(--fill-color);\n",
       "      border-bottom-color: var(--fill-color);\n",
       "    }\n",
       "    90% {\n",
       "      border-color: transparent;\n",
       "      border-bottom-color: var(--fill-color);\n",
       "    }\n",
       "  }\n",
       "</style>\n",
       "\n",
       "  <script>\n",
       "    async function quickchart(key) {\n",
       "      const quickchartButtonEl =\n",
       "        document.querySelector('#' + key + ' button');\n",
       "      quickchartButtonEl.disabled = true;  // To prevent multiple clicks.\n",
       "      quickchartButtonEl.classList.add('colab-df-spinner');\n",
       "      try {\n",
       "        const charts = await google.colab.kernel.invokeFunction(\n",
       "            'suggestCharts', [key], {});\n",
       "      } catch (error) {\n",
       "        console.error('Error during call to suggestCharts:', error);\n",
       "      }\n",
       "      quickchartButtonEl.classList.remove('colab-df-spinner');\n",
       "      quickchartButtonEl.classList.add('colab-df-quickchart-complete');\n",
       "    }\n",
       "    (() => {\n",
       "      let quickchartButtonEl =\n",
       "        document.querySelector('#df-53fda251-176a-4d71-93fe-1818d9f18b5c button');\n",
       "      quickchartButtonEl.style.display =\n",
       "        google.colab.kernel.accessAllowed ? 'block' : 'none';\n",
       "    })();\n",
       "  </script>\n",
       "</div>\n",
       "    </div>\n",
       "  </div>\n"
      ],
      "text/plain": [
       "   X1  X2  query_distance\n",
       "0   1   9        4.123106\n",
       "1   2   3        5.000000\n",
       "2   4   1        7.810250\n",
       "3   3   7        4.242641\n",
       "4   5   4        5.000000\n",
       "5   6   8        2.828427\n",
       "6   7   2        4.123106\n",
       "7   8   8        5.099020\n",
       "8   7   9        2.000000\n",
       "9   9   6        2.000000"
      ]
     },
     "execution_count": 17,
     "metadata": {},
     "output_type": "execute_result"
    }
   ],
   "source": [
    "import pandas as pd\n",
    "\n",
    "df = pd.DataFrame(X, columns=['X1', 'X2'])\n",
    "df[\"query_distance\"] = distances_sklearn[0, idxs_sklearn[0]]\n",
    "df"
   ]
  },
  {
   "cell_type": "code",
   "execution_count": null,
   "metadata": {
    "colab": {
     "base_uri": "https://localhost:8080/"
    },
    "id": "82b60rVLu8L4",
    "outputId": "fa64fbd8-9c07-4774-fabd-0b707527af1b"
   },
   "outputs": [
    {
     "name": "stdout",
     "output_type": "stream",
     "text": [
      "[[78 70 13 ... 11 49 36]\n",
      " [21 18 43 ...  1 42 13]\n",
      " [29 16  7 ... 91 94 46]\n",
      " ...\n",
      " [76 31 90 ... 52 85  7]\n",
      " [ 6 36 66 ... 76 64 34]\n",
      " [49 78 62 ... 26 30 46]]\n"
     ]
    }
   ],
   "source": [
    "def generate_dataset(n, d):\n",
    "    X = np.random.randint(0, 100, size=(n, d))\n",
    "    return X\n",
    "\n",
    "n = 1000  \n",
    "d = 20    \n",
    "X_train = generate_dataset(n, d)\n",
    "print(X_train)"
   ]
  },
  {
   "cell_type": "code",
   "execution_count": null,
   "metadata": {
    "id": "EC1KghbB5gD0"
   },
   "outputs": [],
   "source": [
    "X_test = generate_dataset(1, d)"
   ]
  },
  {
   "cell_type": "code",
   "execution_count": null,
   "metadata": {
    "id": "diSD9dtbB6oh"
   },
   "outputs": [],
   "source": [
    "from sklearn.datasets import make_blobs\n",
    "\n",
    "def create_clusters(k, n, d, cluster_std=1.0):\n",
    "    data, labels = make_blobs(n_samples=n*k, n_features=d, centers=k, cluster_std=cluster_std, random_state=42)\n",
    "    return data, labels"
   ]
  },
  {
   "cell_type": "code",
   "execution_count": null,
   "metadata": {
    "id": "HJBeqmtKCLdf"
   },
   "outputs": [],
   "source": [
    "k = 3\n",
    "n = 10\n",
    "d = 2\n",
    "cluster_std = 1.0\n",
    "\n",
    "X_train, y_train = create_clusters(k, n, d, cluster_std)"
   ]
  },
  {
   "cell_type": "code",
   "execution_count": null,
   "metadata": {
    "colab": {
     "base_uri": "https://localhost:8080/",
     "height": 564
    },
    "id": "QHV6zg2dCnxv",
    "outputId": "92d274cb-cf45-42ef-d9c6-6050ff8c4f77"
   },
   "outputs": [
    {
     "data": {
      "image/png": "[encoded data removed]",
      "text/plain": [
       "<Figure size 800x600 with 2 Axes>"
      ]
     },
     "metadata": {},
     "output_type": "display_data"
    }
   ],
   "source": [
    "plt.figure(figsize=(8, 6))\n",
    "plt.scatter(X_train[:, 0], X_train[:, 1], c=y_train, cmap='viridis')\n",
    "plt.title('Clusters')\n",
    "plt.xlabel('Feature 1')\n",
    "plt.ylabel('Feature 2')\n",
    "plt.colorbar(label='Cluster')\n",
    "plt.grid(True)\n",
    "plt.show()"
   ]
  },
  {
   "cell_type": "code",
   "execution_count": null,
   "metadata": {
    "id": "v4rznp8A6LR6"
   },
   "outputs": [],
   "source": [
    "def k_nearest_neighbors_with_indices(X_train, X_test, k):\n",
    "    \"\"\"\n",
    "    Implement k-nearest neighbors algorithm and output indices of k nearest neighbors.\n",
    "\n",
    "    Parameters:\n",
    "        X_train (numpy.ndarray): Training data features with shape (n_train, d).\n",
    "        X_test (numpy.ndarray): Test data features with shape (n_test, d).\n",
    "        k (int): Number of nearest neighbors to consider.\n",
    "\n",
    "    Returns:\n",
    "        List of numpy.ndarray: Indices of k nearest neighbors for each test data point.\n",
    "    \"\"\"\n",
    "    n_train = X_train.shape[0]\n",
    "    n_test = X_test.shape[0]\n",
    "    neighbor_indices = []\n",
    "\n",
    "    for i in range(n_test):\n",
    "        distances = np.linalg.norm(X_train - X_test[i], axis=1)  \n",
    "        nearest_indices = distances.argsort()[:k]  \n",
    "        neighbor_indices.append(nearest_indices)\n",
    "\n",
    "    return neighbor_indices"
   ]
  },
  {
   "cell_type": "code",
   "execution_count": null,
   "metadata": {
    "id": "ecV9zdRBC9FQ"
   },
   "outputs": [],
   "source": [
    "x_test = [2,2]\n",
    "x_test = np.array(x_test)\n",
    "k = 10"
   ]
  },
  {
   "cell_type": "code",
   "execution_count": null,
   "metadata": {
    "colab": {
     "base_uri": "https://localhost:8080/"
    },
    "id": "JjuWbmdzDPuK",
    "outputId": "75b698c1-4a64-4c14-9e61-18c0409d8c4e"
   },
   "outputs": [
    {
     "name": "stdout",
     "output_type": "stream",
     "text": [
      "[array([15,  1,  2, 12, 10,  3, 23,  6, 13, 24]), array([15,  1,  2, 12, 10,  3, 23,  6, 13, 24])]\n",
      "[[[3.31169279 2.17003092]\n",
      "  [3.16135685 1.25332548]\n",
      "  [3.48888526 2.3488677 ]\n",
      "  [4.03924015 1.68147593]\n",
      "  [4.52423055 1.67206599]\n",
      "  [4.03817222 3.82544787]\n",
      "  [4.62638161 0.91545875]\n",
      "  [5.37834542 2.14453797]\n",
      "  [4.84874243 0.01349956]\n",
      "  [5.46242375 0.75232603]]\n",
      "\n",
      " [[3.31169279 2.17003092]\n",
      "  [3.16135685 1.25332548]\n",
      "  [3.48888526 2.3488677 ]\n",
      "  [4.03924015 1.68147593]\n",
      "  [4.52423055 1.67206599]\n",
      "  [4.03817222 3.82544787]\n",
      "  [4.62638161 0.91545875]\n",
      "  [5.37834542 2.14453797]\n",
      "  [4.84874243 0.01349956]\n",
      "  [5.46242375 0.75232603]]]\n"
     ]
    }
   ],
   "source": [
    "y_pred_naive_self = k_nearest_neighbors_with_indices(X_train, x_test, k)\n",
    "print(y_pred_naive_self)\n",
    "print(X_train[y_pred_naive_self])"
   ]
  },
  {
   "cell_type": "code",
   "execution_count": null,
   "metadata": {
    "colab": {
     "base_uri": "https://localhost:8080/"
    },
    "id": "gQZNEapaDvBH",
    "outputId": "84d12ff2-d52b-4054-c5ca-1ce0bac404c9"
   },
   "outputs": [
    {
     "name": "stdout",
     "output_type": "stream",
     "text": [
      "[[15  1  2 12 10  3 23  6 13 24]]\n",
      "[[3.16135685 1.25332548]\n",
      " [3.31169279 2.17003092]\n",
      " [3.48888526 2.3488677 ]\n",
      " [4.03817222 3.82544787]\n",
      " [4.03924015 1.68147593]\n",
      " [4.52423055 1.67206599]\n",
      " [4.62638161 0.91545875]\n",
      " [4.84874243 0.01349956]\n",
      " [5.37834542 2.14453797]\n",
      " [5.46242375 0.75232603]]\n"
     ]
    }
   ],
   "source": [
    "k = 10\n",
    "nbrs = NearestNeighbors(n_neighbors=k, algorithm='brute').fit(X_train)\n",
    "distances, indices = nbrs.kneighbors([x_test])\n",
    "print(indices)\n",
    "knn = X_train[indices]\n",
    "knn = knn.reshape(10,2)\n",
    "knn = knn[knn[:, 0].argsort()]\n",
    "print(knn)"
   ]
  },
  {
   "cell_type": "code",
   "execution_count": null,
   "metadata": {
    "colab": {
     "base_uri": "https://localhost:8080/"
    },
    "id": "eKNxr7BJEn7M",
    "outputId": "aa914010-b603-4728-fbe4-32d82c47a71e"
   },
   "outputs": [
    {
     "name": "stdout",
     "output_type": "stream",
     "text": [
      "[[15  1  2 12 10  3 23  6 13 24]]\n",
      "[[[3.31169279 2.17003092]\n",
      "  [3.16135685 1.25332548]\n",
      "  [3.48888526 2.3488677 ]\n",
      "  [4.03924015 1.68147593]\n",
      "  [4.52423055 1.67206599]\n",
      "  [4.03817222 3.82544787]\n",
      "  [4.62638161 0.91545875]\n",
      "  [5.37834542 2.14453797]\n",
      "  [4.84874243 0.01349956]\n",
      "  [5.46242375 0.75232603]]]\n"
     ]
    }
   ],
   "source": [
    "k = 10\n",
    "nbrs = NearestNeighbors(n_neighbors=k, algorithm='kd_tree').fit(X_train)\n",
    "distances, indices = nbrs.kneighbors([x_test])\n",
    "print(indices)\n",
    "print(X_train[indices])"
   ]
  },
  {
   "cell_type": "markdown",
   "metadata": {
    "id": "58oFlmsWgcH_"
   },
   "source": [
    "##  KD tree"
   ]
  },
  {
   "cell_type": "code",
   "execution_count": null,
   "metadata": {
    "id": "ast35Yo6Qumk"
   },
   "outputs": [],
   "source": [
    "class KDNode:\n",
    "    def __init__(self, point, left=None, right=None):\n",
    "        self.point = point\n",
    "        self.left = left\n",
    "        self.right = right\n",
    "\n",
    "def build_kdtree(points, depth=0):\n",
    "    if len(points) < 1:\n",
    "        return None\n",
    "\n",
    "    k = len(points[0])  \n",
    "    axis = depth % k\n",
    "    sorted_points = sorted(points, key=lambda x: x[axis])\n",
    "    median_index = len(sorted_points) // 2\n",
    "\n",
    "    return KDNode(\n",
    "        point=sorted_points[median_index],\n",
    "        left=build_kdtree(sorted_points[:median_index], depth + 1),\n",
    "        right=build_kdtree(sorted_points[median_index + 1:], depth + 1)\n",
    "    )\n",
    "\n",
    "def distance(point1, point2):\n",
    "    return np.sqrt(np.sum((point1 - point2) ** 2))\n",
    "\n",
    "def nearest_neighbors_kdtree(root, query_point, k):\n",
    "    def _nearest_neighbors(node, depth=0):\n",
    "        if node is None:\n",
    "            return []\n",
    "\n",
    "        axis = depth % len(query_point)\n",
    "        if query_point[axis] < node.point[axis]:\n",
    "            next_node = node.left\n",
    "            opposite_node = node.right\n",
    "        else:\n",
    "            next_node = node.right\n",
    "            opposite_node = node.left\n",
    "\n",
    "        best = _nearest_neighbors(next_node, depth + 1)\n",
    "        if len(best) < k or distance(query_point, node.point) < distance(query_point, best[-1]):\n",
    "            best.append(node.point)\n",
    "            best.sort(key=lambda x: distance(query_point, x))\n",
    "            best = best[:k]\n",
    "\n",
    "        if (query_point[axis] - node.point[axis]) ** 2 < distance(query_point, best[-1]) or len(best) < k:\n",
    "            best.extend(_nearest_neighbors(opposite_node, depth + 1))\n",
    "            best.sort(key=lambda x: distance(query_point, x))\n",
    "            best = best[:k]\n",
    "\n",
    "        return best\n",
    "\n",
    "    return _nearest_neighbors(root)"
   ]
  },
  {
   "cell_type": "code",
   "execution_count": null,
   "metadata": {
    "colab": {
     "base_uri": "https://localhost:8080/"
    },
    "id": "ADd5bM4pynNm",
    "outputId": "fcf91b4c-2d47-40fc-d473-a3aa9791677b"
   },
   "outputs": [
    {
     "name": "stdout",
     "output_type": "stream",
     "text": [
      "Collecting binarytree\n",
      "  Downloading binarytree-6.5.1-py3-none-any.whl (18 kB)\n",
      "Requirement already satisfied: graphviz in /usr/local/lib/python3.10/dist-packages (from binarytree) (0.20.3)\n",
      "Requirement already satisfied: setuptools>=60.8.2 in /usr/local/lib/python3.10/dist-packages (from binarytree) (67.7.2)\n",
      "Collecting setuptools-scm[toml]>=5.0.1 (from binarytree)\n",
      "  Downloading setuptools_scm-8.0.4-py3-none-any.whl (42 kB)\n",
      "\u001b[2K     \u001b[90m━━━━━━━━━━━━━━━━━━━━━━━━━━━━━━━━━━━━━━━━\u001b[0m \u001b[32m42.1/42.1 kB\u001b[0m \u001b[31m1.6 MB/s\u001b[0m eta \u001b[36m0:00:00\u001b[0m\n",
      "\u001b[?25hRequirement already satisfied: packaging>=20 in /usr/local/lib/python3.10/dist-packages (from setuptools-scm[toml]>=5.0.1->binarytree) (24.0)\n",
      "Requirement already satisfied: typing-extensions in /usr/local/lib/python3.10/dist-packages (from setuptools-scm[toml]>=5.0.1->binarytree) (4.11.0)\n",
      "Requirement already satisfied: tomli>=1 in /usr/local/lib/python3.10/dist-packages (from setuptools-scm[toml]>=5.0.1->binarytree) (2.0.1)\n",
      "Installing collected packages: setuptools-scm, binarytree\n",
      "Successfully installed binarytree-6.5.1 setuptools-scm-8.0.4\n"
     ]
    }
   ],
   "source": [
    "! pip install binarytree"
   ]
  },
  {
   "cell_type": "code",
   "execution_count": null,
   "metadata": {
    "id": "J7hlbkb4uQjQ"
   },
   "outputs": [],
   "source": [
    "from math import floor\n",
    "from binarytree import tree, Node\n",
    "\n",
    "class MyNode(Node):\n",
    "  def __init__(self,_id,data,axis,idx,id,objects):\n",
    "    super().__init__(_id)\n",
    "    self.id = id\n",
    "    self.objects = objects\n",
    "    self.data = data\n",
    "    self.axis = axis\n",
    "    self.idx = idx\n",
    "\n",
    "class KD_Tree:\n",
    "  def __init__(self, leaf_size=10):\n",
    "    self.data = None\n",
    "    self.tree = None\n",
    "    self.leaf_size = leaf_size\n",
    "\n",
    "  def distance(self,q1, q2):\n",
    "    return np.linalg.norm(q1-q2)\n",
    "  def _build(self,points,depth):\n",
    "    k = len(points.columns)\n",
    "    _axis = depth % k\n",
    "    _column = points.columns[_axis]\n",
    "\n",
    "    if len(points)<self.leaf_size:\n",
    "      return None\n",
    "\n",
    "    objects_list = points.sort_values(by = [_column], ascending = True)\n",
    "\n",
    "    if len(objects_list)%2 == 0:\n",
    "      median_idx = int((len(objects_list)/2))\n",
    "    else:\n",
    "      median_idx = floor(len(objects_list)/2)\n",
    "    node = MyNode(_id = round(objects_list.iloc[median_idx][_column],3),\n",
    "                  data = objects_list.iloc[median_idx],\n",
    "                  axis = _column,\n",
    "                  idx = median_idx,\n",
    "                  id = round(objects_list.iloc[median_idx][_column],3),\n",
    "                  objects = objects_list)\n",
    "    node.left = self._build(objects_list.iloc[0:median_idx],depth+1)\n",
    "    node.right = self._build(objects_list.iloc[median_idx+1:],depth+1)\n",
    "\n",
    "    return node\n",
    "  def build(self, data):\n",
    "    test_df = pd.DataFrame(data)\n",
    "    self.data = test_df\n",
    "    self.tree = self._build(self.data,depth = 0)\n",
    "\n",
    "  def _nearest(self,query,node,best_node,best_distance):\n",
    "    if not node:\n",
    "      return best_node, best_distance\n",
    "    d = self.distance(query.values[0],node.data.values)\n",
    "    if d<best_distance:\n",
    "      best_node = node\n",
    "      best_distance = d\n",
    "    if query[node.axis].values[0]<node.data[node.axis]:\n",
    "      good_side = node.left\n",
    "      bad_side = node.right\n",
    "    else:\n",
    "      bad_side = node.left\n",
    "      good_side = node.right\n",
    "    best_node, best_distance = self._nearest(query,good_side, best_node, best_distance)\n",
    "    if abs(node.data[node.axis]-query[node.axis].values[0])<best_distance :\n",
    "      best_node, best_distance = self._nearest(query,bad_side, best_node, best_distance)\n",
    "    return best_node, best_distance\n",
    "\n",
    "  def get_nn(self,query):\n",
    "    query = pd.DataFrame([query], columns = self.data.columns)\n",
    "    return self._nearest(query,self.tree, None, np.inf)\n",
    "  def kneighbors(self,queries,k):\n",
    "    X = np.array(self.data)\n",
    "    distances = []\n",
    "    indices = []\n",
    "    for query in queries:\n",
    "      candidates = np.array(kdtree.get_nn(query)[0].objects.index)\n",
    "      distances_indices = [(np.linalg.norm(query - X[j]), j) for j in candidates]\n",
    "      distances_indices.sort()\n",
    "      while len(distances_indices) < k:\n",
    "          distances_indices.append((np.nan, np.nan))\n",
    "      distances.append([dist for dist, _ in distances_indices[:k]])\n",
    "      indices.append([idx for _, idx in distances_indices[:k]])\n",
    "\n",
    "    return distances, indices"
   ]
  },
  {
   "cell_type": "code",
   "execution_count": null,
   "metadata": {
    "id": "3LMbM52wwKV5"
   },
   "outputs": [],
   "source": [
    "kdtree = KD_Tree(leaf_size = 10)\n",
    "kdtree.build(X_train)"
   ]
  },
  {
   "cell_type": "code",
   "execution_count": null,
   "metadata": {
    "colab": {
     "base_uri": "https://localhost:8080/"
    },
    "id": "m6a-0Gszx5eH",
    "outputId": "78d9fd9b-ba49-4335-a6db-7aa4a0db9cd4"
   },
   "outputs": [
    {
     "name": "stdout",
     "output_type": "stream",
     "text": [
      "\n",
      "    ___-2.973_\n",
      "   /          \\\n",
      "-5.905        2.17\n",
      "\n"
     ]
    }
   ],
   "source": [
    "print(kdtree.tree)"
   ]
  },
  {
   "cell_type": "code",
   "execution_count": null,
   "metadata": {
    "colab": {
     "base_uri": "https://localhost:8080/"
    },
    "id": "cDuEy56fUXVF",
    "outputId": "89a00692-eb93-4c76-e9d0-001ec58467f3"
   },
   "outputs": [
    {
     "name": "stdout",
     "output_type": "stream",
     "text": [
      "[2 2]\n",
      "<class 'numpy.ndarray'>\n",
      "(2,)\n"
     ]
    }
   ],
   "source": [
    "print(x_test)\n",
    "print(type(x_test))\n",
    "print(x_test.shape)"
   ]
  },
  {
   "cell_type": "code",
   "execution_count": null,
   "metadata": {
    "id": "lyFD5TWQRFu7"
   },
   "outputs": [],
   "source": [
    "root = build_kdtree(X_train)\n",
    "y_pred_kd_self = nearest_neighbors_kdtree(root, x_test, k)"
   ]
  },
  {
   "cell_type": "code",
   "execution_count": null,
   "metadata": {
    "colab": {
     "base_uri": "https://localhost:8080/"
    },
    "id": "PnNjXVjjSus-",
    "outputId": "4e452d88-6132-4126-d660-c460010981af"
   },
   "outputs": [
    {
     "name": "stdout",
     "output_type": "stream",
     "text": [
      "10\n",
      "<class 'numpy.ndarray'>\n"
     ]
    }
   ],
   "source": [
    "print(len(y_pred_kd_self))\n",
    "print(type(y_pred_kd_self[0]))\n",
    "values = []\n",
    "for i in range(len(y_pred_kd_self)):\n",
    "  values.append(y_pred_kd_self[i])\n",
    "values = np.array(values)"
   ]
  },
  {
   "cell_type": "code",
   "execution_count": null,
   "metadata": {
    "colab": {
     "base_uri": "https://localhost:8080/"
    },
    "id": "jyVCyAn7nniP",
    "outputId": "391cf89a-fbd6-4349-9dd8-854fd7738a02"
   },
   "outputs": [
    {
     "name": "stdout",
     "output_type": "stream",
     "text": [
      "[[3.31169279 2.17003092]\n",
      " [3.16135685 1.25332548]\n",
      " [3.48888526 2.3488677 ]\n",
      " [4.03924015 1.68147593]\n",
      " [4.52423055 1.67206599]\n",
      " [4.03817222 3.82544787]\n",
      " [4.62638161 0.91545875]\n",
      " [5.37834542 2.14453797]\n",
      " [4.84874243 0.01349956]\n",
      " [5.46242375 0.75232603]]\n",
      "(10, 2)\n"
     ]
    }
   ],
   "source": [
    "print(values)\n",
    "print(values.shape)"
   ]
  },
  {
   "cell_type": "code",
   "execution_count": null,
   "metadata": {
    "id": "A9nR_Wb8lgac"
   },
   "outputs": [],
   "source": [
    "def count_kd(knn, kdtree):\n",
    "    knn = knn[knn[:, 0].argsort()]\n",
    "    kdtree = kdtree[kdtree[:, 0].argsort()]\n",
    "    count = 0\n",
    "    for i in knn:\n",
    "        if i in kdtree:\n",
    "            count += 1\n",
    "\n",
    "    return count"
   ]
  },
  {
   "cell_type": "code",
   "execution_count": null,
   "metadata": {
    "colab": {
     "base_uri": "https://localhost:8080/"
    },
    "id": "pgyf6kcsokgr",
    "outputId": "d8435f12-7d40-4fdd-d2d9-52f4b8e02913"
   },
   "outputs": [
    {
     "name": "stdout",
     "output_type": "stream",
     "text": [
      "10\n"
     ]
    }
   ],
   "source": [
    "number = count_kd(knn, values)\n",
    "print(number)"
   ]
  },
  {
   "cell_type": "code",
   "execution_count": null,
   "metadata": {
    "colab": {
     "base_uri": "https://localhost:8080/",
     "height": 449
    },
    "id": "yLyNWODlWawl",
    "outputId": "68a6e5dd-0114-43c5-8a0e-08f1af70d1fa"
   },
   "outputs": [
    {
     "data": {
      "image/png": "[encoded data removed]",
      "text/plain": [
       "<Figure size 640x480 with 1 Axes>"
      ]
     },
     "metadata": {},
     "output_type": "display_data"
    }
   ],
   "source": [
    "class Node:\n",
    "    def __init__(self, point, split_dim, left=None, right=None):\n",
    "        self.point = point\n",
    "        self.split_dim = split_dim\n",
    "        self.left = left\n",
    "        self.right = right\n",
    "\n",
    "def build_kd_tree(points, depth=0):\n",
    "    if len(points) < 10:\n",
    "        return None\n",
    "\n",
    "    split_dim = depth % 2\n",
    "\n",
    "    points.sort(key=lambda x: x[split_dim])\n",
    "    median_idx = len(points) // 2\n",
    "    node = Node(points[median_idx], split_dim)\n",
    "\n",
    "    node.left = build_kd_tree(points[:median_idx], depth + 1)\n",
    "    node.right = build_kd_tree(points[median_idx + 1:], depth + 1)\n",
    "\n",
    "    return node\n",
    "\n",
    "def plot_kd_tree(node, xmin, xmax, ymin, ymax, depth=0):\n",
    "    if node is None:\n",
    "        return\n",
    "\n",
    "    if node.split_dim == 0:  \n",
    "        plt.plot([node.point[0], node.point[0]], [ymin, ymax], color='b')\n",
    "    else:  \n",
    "        plt.plot([xmin, xmax], [node.point[1], node.point[1]], color='r')\n",
    "\n",
    "    if node.left:\n",
    "        if node.split_dim == 0:\n",
    "            plot_kd_tree(node.left, xmin, node.point[0], ymin, ymax, depth + 1)\n",
    "        else:\n",
    "            plot_kd_tree(node.left, xmin, xmax, ymin, node.point[1], depth + 1)\n",
    "    if node.right:\n",
    "        if node.split_dim == 0:\n",
    "            plot_kd_tree(node.right, node.point[0], xmax, ymin, ymax, depth + 1)\n",
    "        else:\n",
    "            plot_kd_tree(node.right, xmin, xmax, node.point[1], ymax, depth + 1)\n",
    "\n",
    "\n",
    "query_pt = np.array([2,2])\n",
    "\n",
    "root = build_kd_tree(X_train.tolist())  \n",
    "plt.scatter(X_train[:,0], X_train[:,1], s=100)  \n",
    "\n",
    "plt.xlabel('X1')\n",
    "plt.ylabel('X2')\n",
    "plt.gca().set_aspect('equal', adjustable='box')\n",
    "plt.grid(True, which='both', axis='both', linestyle='--', linewidth=1, alpha=0.5)\n",
    "plt.scatter(query_pt[0], query_pt[1], color='red', s=100)\n",
    "\n",
    "plot_kd_tree(root, X_train[:,0].min(), X_train[:,0].max(), X_train[:,1].min(), X_train[:,1].max())  \n",
    "plt.show()"
   ]
  },
  {
   "cell_type": "code",
   "execution_count": null,
   "metadata": {
    "id": "q9CRc5Lqdobf"
   },
   "outputs": [],
   "source": [
    "x_test = [-2, -7]\n",
    "x_test = np.array(x_test)"
   ]
  },
  {
   "cell_type": "code",
   "execution_count": null,
   "metadata": {
    "colab": {
     "base_uri": "https://localhost:8080/"
    },
    "id": "rjUMkrpTcNl6",
    "outputId": "db101454-7b0e-4307-9cea-bd7014eaccc5"
   },
   "outputs": [
    {
     "name": "stdout",
     "output_type": "stream",
     "text": [
      "[[16 22 11 29  9 21  7 19 20 26]]\n",
      "[[-7.98596217 -8.07631622]\n",
      " [-7.71884471 -7.18932197]\n",
      " [-7.55654919 -6.2684333 ]\n",
      " [-7.35880143 -7.06576857]\n",
      " [-7.34026596 -5.82298737]\n",
      " [-6.55554322 -7.26519187]\n",
      " [-6.54836376 -5.90456447]\n",
      " [-6.5360089  -8.64314975]\n",
      " [-6.06710137 -5.52386956]\n",
      " [-5.84862767 -5.94882947]]\n"
     ]
    }
   ],
   "source": [
    "k = 10\n",
    "nbrs = NearestNeighbors(n_neighbors=k, algorithm='brute').fit(X_train)\n",
    "distances, indices = nbrs.kneighbors([x_test])\n",
    "\n",
    "print(indices)\n",
    "\n",
    "knn = X_train[indices]\n",
    "knn = knn.reshape(10,2)\n",
    "knn = knn[knn[:, 0].argsort()]\n",
    "print(knn)"
   ]
  },
  {
   "cell_type": "code",
   "execution_count": null,
   "metadata": {
    "colab": {
     "base_uri": "https://localhost:8080/",
     "height": 449
    },
    "id": "h1a7jww0b4VB",
    "outputId": "936875d8-eba1-46ee-8267-6aebe015a75c"
   },
   "outputs": [
    {
     "data": {
      "image/png": "[encoded data removed]",
      "text/plain": [
       "<Figure size 640x480 with 1 Axes>"
      ]
     },
     "metadata": {},
     "output_type": "display_data"
    }
   ],
   "source": [
    "query_pt = np.array([-2,-7])\n",
    "\n",
    "root = build_kd_tree(X_train.tolist())  \n",
    "plt.scatter(X_train[:,0], X_train[:,1], s=100)  \n",
    "\n",
    "plt.xlabel('X1')\n",
    "plt.ylabel('X2')\n",
    "plt.gca().set_aspect('equal', adjustable='box')\n",
    "plt.grid(True, which='both', axis='both', linestyle='--', linewidth=1, alpha=0.5)\n",
    "\n",
    "\n",
    "plt.scatter(query_pt[0], query_pt[1], color='red', s=100)\n",
    "\n",
    "plot_kd_tree(root, X_train[:,0].min(), X_train[:,0].max(), X_train[:,1].min(), X_train[:,1].max())  "
   ]
  },
  {
   "cell_type": "code",
   "execution_count": null,
   "metadata": {
    "colab": {
     "base_uri": "https://localhost:8080/"
    },
    "id": "jGyLtVcGbiqZ",
    "outputId": "ab728997-ef15-4838-de72-d56578c860aa"
   },
   "outputs": [
    {
     "name": "stdout",
     "output_type": "stream",
     "text": [
      "10\n",
      "<class 'numpy.ndarray'>\n",
      "[[5.37834542 2.14453797]\n",
      " [4.84874243 0.01349956]\n",
      " [4.03924015 1.68147593]\n",
      " [3.48888526 2.3488677 ]\n",
      " [3.16135685 1.25332548]]\n"
     ]
    }
   ],
   "source": [
    "import numpy as np\n",
    "import matplotlib.pyplot as plt\n",
    "import heapq\n",
    "\n",
    "class Node:\n",
    "    def __init__(self, point, split_dim, left=None, right=None):\n",
    "        self.point = point\n",
    "        self.split_dim = split_dim\n",
    "        self.left = left\n",
    "        self.right = right\n",
    "\n",
    "def build_kd_tree(points, depth=0):\n",
    "    if len(points) < 1:\n",
    "        return None\n",
    "\n",
    "    k = len(points[0])\n",
    "    split_dim = depth % k\n",
    "    points = sorted(points, key=lambda x: x[split_dim])\n",
    "    median_idx = len(points) // 2\n",
    "\n",
    "    return Node(\n",
    "        point=points[median_idx],\n",
    "        split_dim=split_dim,\n",
    "        left=build_kd_tree(points[:median_idx], depth + 1),\n",
    "        right=build_kd_tree(points[median_idx + 1:], depth + 1)\n",
    "    )\n",
    "\n",
    "def distance(point1, point2):\n",
    "    return np.sqrt(np.sum(np.square(point1 - point2)))\n",
    "\n",
    "def nearest_neighbors_from_leaf(node, query_pt, k, neighbors=None):\n",
    "    if neighbors is None:\n",
    "        neighbors = []\n",
    "\n",
    "    if node is None:\n",
    "        return\n",
    "\n",
    "    if node.left is None and node.right is None:\n",
    "        neighbors.append(node.point)\n",
    "        return neighbors\n",
    "\n",
    "    split_dim = node.split_dim\n",
    "\n",
    "    if query_pt[split_dim] < node.point[split_dim]:\n",
    "        nearest_neighbors_from_leaf(node.left, query_pt, k, neighbors)\n",
    "    else:\n",
    "        nearest_neighbors_from_leaf(node.right, query_pt, k, neighbors)\n",
    "\n",
    "    if abs(query_pt[split_dim] - node.point[split_dim]) < distance(query_pt, neighbors[-1]):\n",
    "        if query_pt[split_dim] < node.point[split_dim]:\n",
    "            nearest_neighbors_from_leaf(node.right, query_pt, k, neighbors)\n",
    "        else:\n",
    "            nearest_neighbors_from_leaf(node.left, query_pt, k, neighbors)\n",
    "\n",
    "    return heapq.nsmallest(k, neighbors, key=lambda x: distance(x, query_pt))\n",
    "points = np.array([[1, 9], [2, 3], [4, 1], [3, 7], [5, 4], [6, 8], [7, 2], [8, 8], [7, 9], [9, 6]])\n",
    "query_pt = np.array([-2, -7])\n",
    "\n",
    "root = build_kd_tree(X_train)\n",
    "nn = nearest_neighbors_from_leaf(root, query_pt, k=10)\n",
    "print(len(nn))\n",
    "print(type(nn[0]))\n",
    "values = []\n",
    "for i in range(len(nn)):\n",
    "  values.append(nn[i])\n",
    "values = np.array(values)\n",
    "values = values[values[:, 0].argsort()[::-1]]\n",
    "print(values[0:5])\n",
    "\n",
    "root = build_kd_tree(X_train)\n",
    "nearest_neighbors = nearest_neighbors_from_leaf(root, query_pt, k=10)\n",
    "nearest_neighbors_sorted = sorted(nearest_neighbors, key=lambda x: distance(x, query_pt), reverse=True)"
   ]
  },
  {
   "cell_type": "code",
   "execution_count": null,
   "metadata": {
    "id": "fWgRzML7xR00"
   },
   "outputs": [],
   "source": [
    "import sys\n",
    "\n",
    "def memory_usage_np_array(array):\n",
    "    return array.size * array.itemsize\n",
    "\n",
    "def memory_usage_kdnode(node):\n",
    "    if node is None:\n",
    "        return 0\n",
    "    return memory_usage_np_array(node.point) + sys.getsizeof(node.left) + sys.getsizeof(node.right)\n",
    "\n",
    "def memory_usage_kdtree(node):\n",
    "    if node is None:\n",
    "        return 0\n",
    "    return memory_usage_kdnode(node) + memory_usage_kdtree(node.left) + memory_usage_kdtree(node.right)"
   ]
  },
  {
   "cell_type": "code",
   "execution_count": null,
   "metadata": {
    "colab": {
     "base_uri": "https://localhost:8080/"
    },
    "id": "pHn3d_40xUAf",
    "outputId": "6b00cdc3-b635-48db-e826-438e0ba324a3"
   },
   "outputs": [
    {
     "name": "stdout",
     "output_type": "stream",
     "text": [
      "2368 bytes\n"
     ]
    }
   ],
   "source": [
    "total_memory_usage = memory_usage_kdtree(root)\n",
    "print(f\"{total_memory_usage} bytes\")"
   ]
  },
  {
   "cell_type": "code",
   "execution_count": null,
   "metadata": {
    "id": "qar0XO98d4pm"
   },
   "outputs": [],
   "source": [
    "x_test = [2, 2]\n",
    "x_test = np.array(x_test)"
   ]
  },
  {
   "cell_type": "markdown",
   "metadata": {
    "id": "WxnWJ_NOhh7V"
   },
   "source": [
    "## LSH"
   ]
  },
  {
   "cell_type": "code",
   "execution_count": null,
   "metadata": {
    "id": "J6KcPF8wS3wM"
   },
   "outputs": [],
   "source": [
    "class LSH:\n",
    "    def __init__(self, points, num_planes, k):\n",
    "        self.points = points\n",
    "        self.num_planes = num_planes\n",
    "        self.k = k\n",
    "        self.dim = len(points[0])\n",
    "        self.hyperplanes = self.generate_hyperplanes()\n",
    "\n",
    "    def generate_hyperplanes(self):\n",
    "        return np.random.randn(self.num_planes, self.dim)\n",
    "\n",
    "    def hash_point(self, point):\n",
    "        return tuple((np.dot(point, plane) > 0) for plane in self.hyperplanes)\n",
    "\n",
    "    def build_index(self):\n",
    "        index = {}\n",
    "        for idx, point in enumerate(self.points):\n",
    "            hash_key = self.hash_point(point)\n",
    "            if hash_key not in index:\n",
    "                index[hash_key] = []\n",
    "            index[hash_key].append(idx)\n",
    "        return index\n",
    "\n",
    "    def query(self, query_point, index):\n",
    "        candidates = set()\n",
    "        query_hash = self.hash_point(query_point)\n",
    "        for key in itertools.product(*[(True, False)] * self.num_planes):\n",
    "            if key == query_hash:\n",
    "                candidates.update(index.get(key, []))\n",
    "        distances = [(idx, np.linalg.norm(query_point - self.points[idx])) for idx in candidates]\n",
    "        distances.sort(key=lambda x: x[1])\n",
    "        return [idx for idx, _ in distances[:self.k]]\n",
    "\n",
    "    def plot_hyperplanes(self):\n",
    "        fig = plt.figure()\n",
    "        if self.hyperplanes.shape[1] == 2:  \n",
    "            ax = fig.add_subplot(111)\n",
    "            for plane in self.hyperplanes:\n",
    "                slope = -plane[0] / plane[1]\n",
    "                intercept = -plane[1]\n",
    "                x_vals = np.linspace(-10, 10, 100)\n",
    "                y_vals = slope * x_vals + intercept\n",
    "                ax.plot(x_vals, y_vals, color='r')\n",
    "\n",
    "            if hasattr(self, 'points') and self.points is not None:\n",
    "                ax.scatter(self.points[:, 0], self.points[:, 1], color='g', label='X_train')\n",
    "\n",
    "            if hasattr(self, 'X_test') and self.X_test is not None:\n",
    "                ax.scatter(self.X_test[:, 0], self.X_test[:, 1], color='b', label='X_test')\n",
    "\n",
    "            ax.set_xlim([-10, 10])\n",
    "            ax.set_ylim([-10, 10])\n",
    "            ax.set_aspect('equal')\n",
    "            ax.grid(True)\n",
    "            ax.set_title('Random Hyperplanes')\n",
    "\n",
    "            if hasattr(self, 'points') and self.points is not None:\n",
    "                ax.legend()\n",
    "\n",
    "            plt.show()\n",
    "        else:\n",
    "            print(\"Hyperplanes must be 2-dimensional to plot.\")\n"
   ]
  },
  {
   "cell_type": "code",
   "execution_count": null,
   "metadata": {
    "id": "2BAHbLD_x0n6"
   },
   "outputs": [],
   "source": [
    "def memory_usage_np_array(array):\n",
    "    return array.size * array.itemsize\n",
    "\n",
    "def memory_usage_lsh(lsh_instance):\n",
    "    points_memory = memory_usage_np_array(lsh_instance.points)\n",
    "    hyperplanes_memory = lsh_instance.num_planes * lsh_instance.dim * 8\n",
    "\n",
    "    other_attributes_memory = sys.getsizeof(lsh_instance.num_planes) + \\\n",
    "                              sys.getsizeof(lsh_instance.k) + \\\n",
    "                              sys.getsizeof(lsh_instance.dim)\n",
    "\n",
    "    total_memory = points_memory + hyperplanes_memory + other_attributes_memory\n",
    "\n",
    "    return total_memory"
   ]
  },
  {
   "cell_type": "code",
   "execution_count": null,
   "metadata": {
    "id": "rGAxknvbXcWc"
   },
   "outputs": [],
   "source": [
    "lsh = LSH(X_train, num_planes=2, k = 10)\n",
    "index = lsh.build_index()\n",
    "y_pred_lsh_self = lsh.query(x_test, index)"
   ]
  },
  {
   "cell_type": "code",
   "execution_count": null,
   "metadata": {
    "colab": {
     "base_uri": "https://localhost:8080/"
    },
    "id": "rvoGZz6Qx4Il",
    "outputId": "c7fd386e-603a-4ea0-ceaa-7b8e24903ed1"
   },
   "outputs": [
    {
     "name": "stdout",
     "output_type": "stream",
     "text": [
      "596 bytes\n"
     ]
    }
   ],
   "source": [
    "total_memory_usage_lsh = memory_usage_lsh(lsh)\n",
    "print(f\"{total_memory_usage_lsh} bytes\")"
   ]
  },
  {
   "cell_type": "code",
   "execution_count": null,
   "metadata": {
    "colab": {
     "base_uri": "https://localhost:8080/"
    },
    "id": "j6wsrqkXX1ta",
    "outputId": "051db810-8e82-4469-f295-877ed84632cc"
   },
   "outputs": [
    {
     "name": "stdout",
     "output_type": "stream",
     "text": [
      "[[ 4.03817222  3.82544787]\n",
      " [-2.26723535  7.10100588]\n",
      " [-2.44166942  7.58953794]\n",
      " [-1.04354885  8.78850983]\n",
      " [-3.4172217   7.60198243]\n",
      " [-2.97261532  8.54855637]\n",
      " [-0.92998481  9.78172086]\n",
      " [-3.05358035  9.12520872]\n",
      " [-4.23411546  8.4519986 ]\n",
      " [-2.97867201  9.55684617]]\n"
     ]
    }
   ],
   "source": [
    "print(X_train[y_pred_lsh_self])\n",
    "lsh_neighbours = X_train[y_pred_lsh_self]"
   ]
  },
  {
   "cell_type": "code",
   "execution_count": null,
   "metadata": {
    "colab": {
     "base_uri": "https://localhost:8080/"
    },
    "id": "RnAzpcquX3NY",
    "outputId": "ef8f3b7f-7d59-46c5-c2f8-b952cd766e29"
   },
   "outputs": [
    {
     "name": "stdout",
     "output_type": "stream",
     "text": [
      "<class 'numpy.ndarray'>\n"
     ]
    }
   ],
   "source": [
    "print(type(lsh.hyperplanes))"
   ]
  },
  {
   "cell_type": "code",
   "execution_count": null,
   "metadata": {
    "colab": {
     "base_uri": "https://localhost:8080/"
    },
    "id": "FiMW-L99O1Hp",
    "outputId": "310d76f5-5347-4555-e7fb-66b03ec0c0a4"
   },
   "outputs": [
    {
     "name": "stdout",
     "output_type": "stream",
     "text": [
      "[[-0.49139198 -0.26979905]\n",
      " [ 0.76558403 -0.97638215]]\n"
     ]
    }
   ],
   "source": [
    "print(lsh.hyperplanes)"
   ]
  },
  {
   "cell_type": "code",
   "execution_count": null,
   "metadata": {
    "colab": {
     "base_uri": "https://localhost:8080/",
     "height": 452
    },
    "id": "M6TSanc4PJxR",
    "outputId": "96b642de-dee1-45a6-fd2a-ccf862979ab0"
   },
   "outputs": [
    {
     "data": {
      "image/png": "[encoded data removed]",
      "text/plain": [
       "<Figure size 640x480 with 1 Axes>"
      ]
     },
     "metadata": {},
     "output_type": "display_data"
    }
   ],
   "source": [
    "lsh.plot_hyperplanes()"
   ]
  },
  {
   "cell_type": "code",
   "execution_count": null,
   "metadata": {
    "id": "nLB4xg0tP-uD"
   },
   "outputs": [],
   "source": [
    "def count_lsh(knn, lsh):\n",
    "    knn = knn[knn[:, 0].argsort()]\n",
    "    lsh = lsh[lsh[:, 0].argsort()]\n",
    "    count = 0\n",
    "    for i in knn:\n",
    "        if i in lsh:\n",
    "            count += 1\n",
    "\n",
    "    return count"
   ]
  },
  {
   "cell_type": "code",
   "execution_count": null,
   "metadata": {
    "colab": {
     "base_uri": "https://localhost:8080/"
    },
    "id": "zhwmvkmjtV9v",
    "outputId": "35fdaee5-975e-4af0-d2c4-974631250222"
   },
   "outputs": [
    {
     "name": "stdout",
     "output_type": "stream",
     "text": [
      "10\n"
     ]
    }
   ],
   "source": [
    "number = count_lsh(knn, lsh_neighbours)\n",
    "print(number)"
   ]
  },
  {
   "cell_type": "code",
   "execution_count": null,
   "metadata": {
    "colab": {
     "base_uri": "https://localhost:8080/"
    },
    "id": "vz7JnzMM01z_",
    "outputId": "5b5142fb-9836-4dc8-bb50-324e567498c8"
   },
   "outputs": [
    {
     "name": "stdout",
     "output_type": "stream",
     "text": [
      "<class 'numpy.ndarray'>\n",
      "(6,)\n",
      "[3 5 5 0 2 6]\n"
     ]
    }
   ],
   "source": [
    "array = np.random.randint(low=-10, high=10, size=(6,1))\n",
    "\n",
    "array = np.squeeze(array)\n",
    "\n",
    "print(type(array))\n",
    "print(array.shape)\n",
    "\n",
    "print(array)"
   ]
  },
  {
   "cell_type": "markdown",
   "metadata": {
    "id": "mbR874ITyQPO"
   },
   "source": [
    "## Large dataset comparision"
   ]
  },
  {
   "cell_type": "code",
   "execution_count": null,
   "metadata": {
    "id": "p4QT-w_Xtnqj"
   },
   "outputs": [],
   "source": [
    "import time\n",
    "\n",
    "samples = [10, 100, 1000, 10000, 1000000]\n",
    "dimensions = [2, 4, 6, 8, 20]\n",
    "time_kdtree_train = []\n",
    "time_lsh_train = []\n",
    "time_knn_test = []\n",
    "time_kdtree_test = []\n",
    "time_lsh_test = []\n",
    "k = 10\n",
    "for i in range(len(samples)):\n",
    "  X_train, y_train = create_clusters(5, samples[i], dimensions[i], 1)\n",
    "  x_test = np.random.randint(low=-15, high=15, size=(dimensions[i], 1))\n",
    "  x_test = np.squeeze(x_test)\n",
    "\n",
    "  start = time.time()\n",
    "  y_pred_naive_self = k_nearest_neighbors_with_indices(X_train, x_test, k)\n",
    "  end = time.time()\n",
    "  time_knn_test.append(end - start)\n",
    "\n",
    "  start = time.time()\n",
    "  root = build_kdtree(X_train)\n",
    "  end = time.time()\n",
    "  time_kdtree_train.append(end - start)\n",
    "\n",
    "  start = time.time()\n",
    "  y_pred_kd_self = nearest_neighbors_kdtree(root, x_test, k)\n",
    "  end = time.time()\n",
    "  time_kdtree_test.append(end - start)\n",
    "\n",
    "  start = time.time()\n",
    "  lsh = LSH(X_train, num_planes=5, k = 10)\n",
    "  index = lsh.build_index()\n",
    "  end = time.time()\n",
    "  time_lsh_train.append(end - start)\n",
    "\n",
    "  start = time.time()\n",
    "  y_pred_lsh_self = lsh.query(x_test, index)\n",
    "  end = time.time()\n",
    "  time_lsh_test.append(end - start)"
   ]
  },
  {
   "cell_type": "code",
   "execution_count": null,
   "metadata": {
    "colab": {
     "base_uri": "https://localhost:8080/",
     "height": 807
    },
    "id": "b9gLIGvAz_qe",
    "outputId": "54511ac9-07f8-470c-af05-32b69f22fd9f"
   },
   "outputs": [
    {
     "data": {
      "image/png": "[encoded data removed]",
      "text/plain": [
       "<Figure size 1000x800 with 2 Axes>"
      ]
     },
     "metadata": {},
     "output_type": "display_data"
    }
   ],
   "source": [
    "plt.figure(figsize=(10, 8))\n",
    "\n",
    "plt.subplot(2, 1, 1)\n",
    "plt.plot(samples, time_kdtree_train, label='KD Tree')\n",
    "plt.plot(samples, time_lsh_train, label='LSH')\n",
    "plt.xlabel('Number of Samples')\n",
    "plt.ylabel('Time (s)')\n",
    "plt.title('Training Time Comparison')\n",
    "plt.legend()\n",
    "plt.yscale('log', base=2)  \n",
    "\n",
    "plt.subplot(2, 1, 2)\n",
    "plt.plot(samples, time_knn_test, label='KNN')\n",
    "plt.plot(samples, time_kdtree_test, label='KD Tree')\n",
    "plt.plot(samples, time_lsh_test, label='LSH')\n",
    "plt.xlabel('Number of Samples')\n",
    "plt.ylabel('Time (s)')\n",
    "plt.title('Testing Time Comparison')\n",
    "plt.legend()\n",
    "\n",
    "plt.yscale('log', base=2)  \n",
    "\n",
    "plt.tight_layout()\n",
    "plt.show()"
   ]
  },
  {
   "cell_type": "markdown",
   "metadata": {
    "id": "4ZH-amxn6A-T"
   },
   "source": [
    "**Time complexity**\n",
    "\n",
    "As KNN algorithm directly finds the K nearest neighbours time required for the training is 0. So, the overall training time is N * D.\n",
    "\n",
    "For KD tree algorithm, the training time is $N \\cdot (logN)^2$ and the testing time is logN.\n",
    "\n",
    "For LSH algorithm the training time depends is $N \\cdot D \\cdot P$. While, The testing time depends on the number of sample points that occur in the same region of randomly generated hyperplanes, which is $T \\cdot D  +  D \\cdot P$"
   ]
  },
  {
   "cell_type": "code",
   "execution_count": null,
   "metadata": {
    "colab": {
     "base_uri": "https://localhost:8080/"
    },
    "id": "Qr45euoA6NH4",
    "outputId": "ed906ab7-8424-46d7-c074-9577c6357611"
   },
   "outputs": [
    {
     "name": "stdout",
     "output_type": "stream",
     "text": [
      "The memory required for implementing kdtree is: 28671.75 Kilobytes\n",
      "The memory required for implementing LSH is: 781250.55078125 Kilobytes\n"
     ]
    }
   ],
   "source": [
    "X_train, y_train = create_clusters(5, 1000000, 20, 1)\n",
    "x_test = np.random.randint(low=-15, high=15, size=(20, 1))\n",
    "x_test = np.squeeze(x_test)\n",
    "\n",
    "root = build_kdtree(X_train)\n",
    "total_memory_usage = memory_usage_kdtree(root)\n",
    "print(f\"The memory required for implementing kdtree is: {total_memory_usage/1024} Kilobytes\")\n",
    "\n",
    "lsh = LSH(X_train, num_planes=3, k = 10)\n",
    "index = lsh.build_index()\n",
    "total_memory_usage_lsh = memory_usage_lsh(lsh)\n",
    "print(f\"The memory required for implementing LSH is: {total_memory_usage_lsh/1024} Kilobytes\")"
   ]
  },
  {
   "cell_type": "code",
   "execution_count": null,
   "metadata": {
    "colab": {
     "base_uri": "https://localhost:8080/",
     "height": 449
    },
    "id": "24vTW4Sl-34K",
    "outputId": "6996287e-c77c-428c-a79e-b39662497483"
   },
   "outputs": [
    {
     "data": {
      "image/png": "[encoded data removed]",
      "text/plain": [
       "<Figure size 640x480 with 1 Axes>"
      ]
     },
     "metadata": {},
     "output_type": "display_data"
    }
   ],
   "source": [
    "class Node:\n",
    "    def __init__(self, point, split_dim, left=None, right=None):\n",
    "        self.point = point\n",
    "        self.split_dim = split_dim\n",
    "        self.left = left\n",
    "        self.right = right\n",
    "\n",
    "def build_kd_tree(points, depth=0):\n",
    "    if len(points) < 10:\n",
    "        return None\n",
    "\n",
    "    split_dim = depth % 2\n",
    "    points.sort(key=lambda x: x[split_dim])\n",
    "\n",
    "    median_idx = len(points) // 2\n",
    "    node = Node(points[median_idx], split_dim)\n",
    "    node.left = build_kd_tree(points[:median_idx], depth + 1)\n",
    "    node.right = build_kd_tree(points[median_idx + 1:], depth + 1)\n",
    "\n",
    "    return node\n",
    "\n",
    "def plot_kd_tree(node, xmin, xmax, ymin, ymax, depth=0):\n",
    "    if node is None:\n",
    "        return\n",
    "\n",
    "    if node.split_dim == 0:  \n",
    "        plt.plot([node.point[0], node.point[0]], [ymin, ymax], color='b')\n",
    "    else:  \n",
    "        plt.plot([xmin, xmax], [node.point[1], node.point[1]], color='r')\n",
    "\n",
    "    if node.left:\n",
    "        if node.split_dim == 0:\n",
    "            plot_kd_tree(node.left, xmin, node.point[0], ymin, ymax, depth + 1)\n",
    "        else:\n",
    "            plot_kd_tree(node.left, xmin, xmax, ymin, node.point[1], depth + 1)\n",
    "    if node.right:\n",
    "        if node.split_dim == 0:\n",
    "            plot_kd_tree(node.right, node.point[0], xmax, ymin, ymax, depth + 1)\n",
    "        else:\n",
    "            plot_kd_tree(node.right, xmin, xmax, node.point[1], ymax, depth + 1)\n",
    "\n",
    "\n",
    "points = np.array([[1, 9], [2, 3], [4, 1], [3, 7], [5, 4], [6, 8], [7, 2], [8, 8], [7, 9], [9, 6]])\n",
    "query_pt = np.array([-2,-7])\n",
    "\n",
    "root = build_kd_tree(X_train.tolist())  \n",
    "plt.scatter(X_train[:,0], X_train[:,1], s=100)  \n",
    "plt.xlabel('X1')\n",
    "plt.ylabel('X2')\n",
    "plt.gca().set_aspect('equal', adjustable='box')\n",
    "plt.grid(True, which='both', axis='both', linestyle='--', linewidth=1, alpha=0.5)\n",
    "plot_kd_tree(root, X_train[:,0].min(), X_train[:,0].max(), X_train[:,1].min(), X_train[:,1].max())  # Plot KD-tree partitions\n",
    "plt.show()\n"
   ]
  },
  {
   "cell_type": "code",
   "execution_count": null,
   "metadata": {
    "id": "ELr4Rp-X9i6c"
   },
   "outputs": [],
   "source": [
    "import math\n",
    "\n",
    "def calculate_distance(point1, point2):\n",
    "    distance = math.sqrt((point1[0] - point2[0]) ** 2 + (point1[1] - point2[1]) ** 2)\n",
    "    return distance\n",
    "\n",
    "def find_k_nearest_neighbors(node, query_point, k, nearest_neighbors, depth=0):\n",
    "    if node is None:\n",
    "        return\n",
    "\n",
    "    distance = calculate_distance(node.point, query_point)\n",
    "\n",
    "    if len(nearest_neighbors) < k:\n",
    "        nearest_neighbors.append((node.point, distance))\n",
    "    else:\n",
    "        max_distance = max(nearest_neighbors, key=lambda x: x[1])[1]\n",
    "        if distance < max_distance:\n",
    "            index = nearest_neighbors.index((max_distance, node.point))\n",
    "            nearest_neighbors[index] = (node.point, distance)\n",
    "\n",
    "    if query_point[depth % 2] < node.point[depth % 2]:\n",
    "        first_subtree = node.left\n",
    "        second_subtree = node.right\n",
    "    else:\n",
    "        first_subtree = node.right\n",
    "        second_subtree = node.left\n",
    "\n",
    "    find_k_nearest_neighbors(first_subtree, query_point, k, nearest_neighbors, depth + 1)\n",
    "    split_distance = abs(query_point[depth % 2] - node.point[depth % 2])\n",
    "    if len(nearest_neighbors) < k or split_distance < max(nearest_neighbors, key=lambda x: x[1])[1]:\n",
    "        find_k_nearest_neighbors(second_subtree, query_point, k, nearest_neighbors, depth + 1)\n"
   ]
  },
  {
   "cell_type": "code",
   "execution_count": null,
   "metadata": {
    "id": "n-XGXqV4EsA0"
   },
   "outputs": [],
   "source": [
    "root = build_kd_tree(X_train.tolist())"
   ]
  },
  {
   "cell_type": "code",
   "execution_count": null,
   "metadata": {
    "colab": {
     "base_uri": "https://localhost:8080/"
    },
    "id": "CUOH3E-PF9e6",
    "outputId": "da54232c-073d-4662-ce04-e86f869b482c"
   },
   "outputs": [
    {
     "name": "stdout",
     "output_type": "stream",
     "text": [
      "[-2 -7]\n"
     ]
    }
   ],
   "source": [
    "print(x_test)"
   ]
  },
  {
   "cell_type": "code",
   "execution_count": null,
   "metadata": {
    "colab": {
     "base_uri": "https://localhost:8080/"
    },
    "id": "FCv-Y6KqEwY6",
    "outputId": "f72290c1-e7b5-42d9-c0a7-919b8bdfb3a5"
   },
   "outputs": [
    {
     "name": "stdout",
     "output_type": "stream",
     "text": [
      "3\n",
      "Neighbor: [-2.9726153158652124, 8.548556374628065] Distance: 15.578946879928779\n",
      "Neighbor: [3.3116927873296707, 2.1700309198098555] Distance: 10.597336803991785\n",
      "Neighbor: [-6.548363759747706, -5.904564466153587] Distance: 4.678417670516353\n"
     ]
    }
   ],
   "source": [
    "nearest_neighbors = []\n",
    "find_k_nearest_neighbors(root, x_test, k, nearest_neighbors)\n",
    "print(k)\n",
    "\n",
    "for neighbor, distance in nearest_neighbors:\n",
    "    print(\"Neighbor:\", neighbor, \"Distance:\", distance)"
   ]
  },
  {
   "cell_type": "code",
   "execution_count": null,
   "metadata": {
    "colab": {
     "base_uri": "https://localhost:8080/"
    },
    "id": "BHNBp0HHFCf0",
    "outputId": "94ebc98a-c060-4e13-ee1b-92df5b31d8e5"
   },
   "outputs": [
    {
     "name": "stdout",
     "output_type": "stream",
     "text": [
      "Nearest neighbors: [array([-3.4172217 ,  7.60198243]), array([-2.26723535,  7.10100588]), array([5.37834542, 2.14453797]), array([3.48888526, 2.3488677 ]), array([4.03924015, 1.68147593]), array([4.84874243, 0.01349956]), array([3.16135685, 1.25332548]), array([-7.34026596, -5.82298737]), array([-6.5360089 , -8.64314975]), array([-5.84862767, -5.94882947])]\n"
     ]
    }
   ],
   "source": [
    "import numpy as np\n",
    "import matplotlib.pyplot as plt\n",
    "import heapq\n",
    "\n",
    "class Node:\n",
    "    def __init__(self, point, split_dim, left=None, right=None):\n",
    "        self.point = point\n",
    "        self.split_dim = split_dim\n",
    "        self.left = left\n",
    "        self.right = right\n",
    "\n",
    "def build_kd_tree(points, depth=0):\n",
    "    if len(points) < 1:\n",
    "        return None\n",
    "\n",
    "    k = len(points[0])\n",
    "    split_dim = depth % k\n",
    "    points = sorted(points, key=lambda x: x[split_dim])\n",
    "    median_idx = len(points) // 2\n",
    "\n",
    "    return Node(\n",
    "        point=points[median_idx],\n",
    "        split_dim=split_dim,\n",
    "        left=build_kd_tree(points[:median_idx], depth + 1),\n",
    "        right=build_kd_tree(points[median_idx + 1:], depth + 1)\n",
    "    )\n",
    "\n",
    "def distance(point1, point2):\n",
    "    return np.sqrt(np.sum(np.square(point1 - point2)))\n",
    "\n",
    "def nearest_neighbors_from_leaf(node, query_pt, k, neighbors=None):\n",
    "    if neighbors is None:\n",
    "        neighbors = []\n",
    "\n",
    "    if node is None:\n",
    "        return\n",
    "\n",
    "    if node.left is None and node.right is None:\n",
    "        neighbors.append(node.point)\n",
    "        return neighbors\n",
    "\n",
    "    split_dim = node.split_dim\n",
    "\n",
    "    if query_pt[split_dim] < node.point[split_dim]:\n",
    "        nearest_neighbors_from_leaf(node.left, query_pt, k, neighbors)\n",
    "    else:\n",
    "        nearest_neighbors_from_leaf(node.right, query_pt, k, neighbors)\n",
    "    if abs(query_pt[split_dim] - node.point[split_dim]) < distance(query_pt, neighbors[-1]):\n",
    "        if query_pt[split_dim] < node.point[split_dim]:\n",
    "            nearest_neighbors_from_leaf(node.right, query_pt, k, neighbors)\n",
    "        else:\n",
    "            nearest_neighbors_from_leaf(node.left, query_pt, k, neighbors)\n",
    "    return heapq.nsmallest(k, neighbors, key=lambda x: distance(x, query_pt))\n",
    "\n",
    "points = np.array([[1, 9], [2, 3], [4, 1], [3, 7], [5, 4], [6, 8], [7, 2], [8, 8], [7, 9], [9, 6]])\n",
    "query_pt = np.array([-2, -7])\n",
    "\n",
    "root = build_kd_tree(X_train)\n",
    "nearest_neighbors = nearest_neighbors_from_leaf(root, query_pt, k=10)\n",
    "nearest_neighbors_sorted = sorted(nearest_neighbors, key=lambda x: distance(x, query_pt), reverse=True)\n",
    "print(\"Nearest neighbors:\", nearest_neighbors_sorted)\n"
   ]
  }
 ],
 "metadata": {
  "colab": {
   "provenance": []
  },
  "kernelspec": {
   "display_name": ".venv",
   "language": "python",
   "name": "python3"
  },
  "language_info": {
   "name": "python",
   "version": "3.11.4"
  }
 },
 "nbformat": 4,
 "nbformat_minor": 0
}
